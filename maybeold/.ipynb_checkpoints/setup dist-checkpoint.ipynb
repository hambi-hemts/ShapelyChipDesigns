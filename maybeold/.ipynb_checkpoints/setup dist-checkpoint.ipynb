{
 "metadata": {
  "name": "",
  "signature": "sha256:a43dac8cc847348e82bd8b2f1adad279c5b77c35c8f2869dc02446eb84574d7f"
 },
 "nbformat": 3,
 "nbformat_minor": 0,
 "worksheets": [
  {
   "cells": [
    {
     "cell_type": "code",
     "collapsed": false,
     "input": [
      "%%writefile setup.py\n",
      "\n",
      "from distutils.core import setup\n",
      "\n",
      "setup(name = 'ShapelyChipDesigns',\n",
      "      version = '0.0',\n",
      "      description = 'Chip design package based on the Shapely module', \n",
      "      author = 'hambi',\n",
      "      author_email = 'annahambi@gmail.com',\n",
      "      url = 'lala.com',\n",
      "      #py_modules=['src'],\n",
      "      packages = ['ShapelyChipDesigns'], \n",
      "      package_dir = {'': 'src'},\n",
      "      package_data = {'': ['convert.rb']},\n",
      "      install_requires=[\n",
      "            'shapely',\n",
      "            'descartes', \n",
      "            'mpld3']\n",
      "      #data_files=[('', ['ShapelyChipDesigns/convert.rb'])]\n",
      "      )\n",
      "\n",
      "\"\"\"\n",
      "setup(name='ShapelyChipDesigns',\n",
      "      version='0.0',\n",
      "      description='Chip design package based on the Shapely module', \n",
      "      author='hambi',\n",
      "      author_email='annahambi@gmail.com',\n",
      "      url='lala.com',\n",
      "      #py_modules=['src'],\n",
      "      packages=['ShapelyChipDesigns'], \n",
      "      package_dir = {'ShapelyChipDesigns': 'src'},\n",
      "      package_data={'ShapelyChipDesigns': ['convert.rb']}\n",
      "      #data_files=[('', ['ShapelyChipDesigns/convert.rb'])]\n",
      "      )\"\"\""
     ],
     "language": "python",
     "metadata": {},
     "outputs": [
      {
       "output_type": "stream",
       "stream": "stdout",
       "text": [
        "Overwriting setup.py\n"
       ]
      }
     ],
     "prompt_number": 5
    },
    {
     "cell_type": "code",
     "collapsed": false,
     "input": [
      "!setup.py sdist"
     ],
     "language": "python",
     "metadata": {},
     "outputs": [
      {
       "output_type": "stream",
       "stream": "stdout",
       "text": [
        "running sdist\n",
        "running check\n",
        "writing manifest file 'MANIFEST'\n",
        "creating ShapelyChipDesigns-0.0\n",
        "creating ShapelyChipDesigns-0.0\\src\n",
        "creating ShapelyChipDesigns-0.0\\src\\ShapelyChipDesigns\n",
        "copying files to ShapelyChipDesigns-0.0...\n",
        "copying setup.py -> ShapelyChipDesigns-0.0\n",
        "copying src\\ShapelyChipDesigns\\__init__.py -> ShapelyChipDesigns-0.0\\src\\ShapelyChipDesigns\n",
        "copying src\\ShapelyChipDesigns\\allparts.py -> ShapelyChipDesigns-0.0\\src\\ShapelyChipDesigns\n",
        "copying src\\ShapelyChipDesigns\\brandnew_structure.py -> ShapelyChipDesigns-0.0\\src\\ShapelyChipDesigns\n",
        "copying src\\ShapelyChipDesigns\\convert.rb -> ShapelyChipDesigns-0.0\\src\\ShapelyChipDesigns\n",
        "copying src\\ShapelyChipDesigns\\designs_poly.py -> ShapelyChipDesigns-0.0\\src\\ShapelyChipDesigns\n",
        "copying src\\ShapelyChipDesigns\\designs_xy.py -> ShapelyChipDesigns-0.0\\src\\ShapelyChipDesigns\n",
        "copying src\\ShapelyChipDesigns\\finger_capacitor.py -> ShapelyChipDesigns-0.0\\src\\ShapelyChipDesigns\n",
        "copying src\\ShapelyChipDesigns\\groundplane.py -> ShapelyChipDesigns-0.0\\src\\ShapelyChipDesigns\n",
        "copying src\\ShapelyChipDesigns\\helpers.py -> ShapelyChipDesigns-0.0\\src\\ShapelyChipDesigns\n",
        "copying src\\ShapelyChipDesigns\\in_out_show.py -> ShapelyChipDesigns-0.0\\src\\ShapelyChipDesigns\n",
        "copying src\\ShapelyChipDesigns\\shapely_fonts.py -> ShapelyChipDesigns-0.0\\src\\ShapelyChipDesigns\n",
        "copying src\\ShapelyChipDesigns\\smooth.py -> ShapelyChipDesigns-0.0\\src\\ShapelyChipDesigns\n",
        "creating 'dist\\ShapelyChipDesigns-0.0.zip' and adding 'ShapelyChipDesigns-0.0' to it\n",
        "adding 'ShapelyChipDesigns-0.0\\PKG-INFO'\n",
        "adding 'ShapelyChipDesigns-0.0\\setup.py'\n",
        "adding 'ShapelyChipDesigns-0.0\\src\\ShapelyChipDesigns\\allparts.py'\n",
        "adding 'ShapelyChipDesigns-0.0\\src\\ShapelyChipDesigns\\brandnew_structure.py'\n",
        "adding 'ShapelyChipDesigns-0.0\\src\\ShapelyChipDesigns\\convert.rb'\n",
        "adding 'ShapelyChipDesigns-0.0\\src\\ShapelyChipDesigns\\designs_poly.py'\n",
        "adding 'ShapelyChipDesigns-0.0\\src\\ShapelyChipDesigns\\designs_xy.py'\n",
        "adding 'ShapelyChipDesigns-0.0\\src\\ShapelyChipDesigns\\finger_capacitor.py'\n",
        "adding 'ShapelyChipDesigns-0.0\\src\\ShapelyChipDesigns\\groundplane.py'\n",
        "adding 'ShapelyChipDesigns-0.0\\src\\ShapelyChipDesigns\\helpers.py'\n",
        "adding 'ShapelyChipDesigns-0.0\\src\\ShapelyChipDesigns\\in_out_show.py'\n",
        "adding 'ShapelyChipDesigns-0.0\\src\\ShapelyChipDesigns\\shapely_fonts.py'\n",
        "adding 'ShapelyChipDesigns-0.0\\src\\ShapelyChipDesigns\\smooth.py'\n",
        "adding 'ShapelyChipDesigns-0.0\\src\\ShapelyChipDesigns\\__init__.py'\n",
        "removing 'ShapelyChipDesigns-0.0' (and everything under it)\n"
       ]
      },
      {
       "output_type": "stream",
       "stream": "stderr",
       "text": [
        "C:\\Python27\\lib\\distutils\\dist.py:267: UserWarning: Unknown distribution option: 'install_requires'\n",
        "  warnings.warn(msg)\n",
        "warning: sdist: manifest template 'MANIFEST.in' does not exist (using default file list)\n",
        "\n",
        "warning: sdist: standard file not found: should have one of README, README.txt\n",
        "\n"
       ]
      }
     ],
     "prompt_number": 6
    },
    {
     "cell_type": "code",
     "collapsed": false,
     "input": [
      "!unzip -o dist/ShapelyChipDesigns-0.0.zip -d dist "
     ],
     "language": "python",
     "metadata": {},
     "outputs": [
      {
       "output_type": "stream",
       "stream": "stdout",
       "text": [
        "Archive:  dist/ShapelyChipDesigns-0.0.zip\n",
        "  inflating: dist/ShapelyChipDesigns-0.0/PKG-INFO  \n",
        "  inflating: dist/ShapelyChipDesigns-0.0/setup.py  \n",
        "  inflating: dist/ShapelyChipDesigns-0.0/src/ShapelyChipDesigns/allparts.py  \n",
        "  inflating: dist/ShapelyChipDesigns-0.0/src/ShapelyChipDesigns/brandnew_structure.py  \n",
        "  inflating: dist/ShapelyChipDesigns-0.0/src/ShapelyChipDesigns/convert.rb  \n",
        "  inflating: dist/ShapelyChipDesigns-0.0/src/ShapelyChipDesigns/designs_poly.py  \n",
        "  inflating: dist/ShapelyChipDesigns-0.0/src/ShapelyChipDesigns/designs_xy.py  \n",
        "  inflating: dist/ShapelyChipDesigns-0.0/src/ShapelyChipDesigns/finger_capacitor.py  \n",
        "  inflating: dist/ShapelyChipDesigns-0.0/src/ShapelyChipDesigns/groundplane.py  \n",
        "  inflating: dist/ShapelyChipDesigns-0.0/src/ShapelyChipDesigns/helpers.py  \n",
        "  inflating: dist/ShapelyChipDesigns-0.0/src/ShapelyChipDesigns/in_out_show.py  \n",
        "  inflating: dist/ShapelyChipDesigns-0.0/src/ShapelyChipDesigns/shapely_fonts.py  \n",
        "  inflating: dist/ShapelyChipDesigns-0.0/src/ShapelyChipDesigns/smooth.py  \n",
        "  inflating: dist/ShapelyChipDesigns-0.0/src/ShapelyChipDesigns/__init__.py  \n"
       ]
      }
     ],
     "prompt_number": 7
    },
    {
     "cell_type": "code",
     "collapsed": false,
     "input": [
      "%%cmd\n",
      "cd dist\n",
      "pip install --upgrade --force-reinstall ShapelyChipDesigns-0.0.zip \n",
      "dir a/"
     ],
     "language": "python",
     "metadata": {},
     "outputs": [
      {
       "output_type": "stream",
       "stream": "stdout",
       "text": [
        "Microsoft Windows [Version 6.1.7601]\r\n",
        "Copyright (c) 2009 Microsoft Corporation.  All rights reserved.\r\n",
        "\r\n",
        "E:\\IPython2\\141007 Sphinx and ShapelyChipDesigns\\try4>cd dist\n",
        "\r\n",
        "E:\\IPython2\\141007 Sphinx and ShapelyChipDesigns\\try4\\dist>pip install --upgrade --force-reinstall ShapelyChipDesigns-0.0.zip \n",
        "Unpacking e:\\ipython2\\141007 sphinx and shapelychipdesigns\\try4\\dist\\shapelychipdesigns-0.0.zip\r\n",
        "  Running setup.py (path:c:\\users\\anna\\appdata\\local\\temp\\pip-fii4jl-build\\setup.py) egg_info for package from file:///E:/IPython2/141007%20Sphinx%20and%20ShapelyChipDesigns/try4/dist/ShapelyChipDesigns-0.0.zip\r\n",
        "    \r\n",
        "Downloading/unpacking shapely (from ShapelyChipDesigns==0.0)\r\n",
        "  Running setup.py (path:c:\\users\\anna\\appdata\\local\\temp\\pip_build_Anna\\shapely\\setup.py) egg_info for package shapely\r\n",
        "    \r\n",
        "Downloading/unpacking descartes (from ShapelyChipDesigns==0.0)\r\n",
        "  Downloading descartes-1.0.1.tar.gz\r\n",
        "  Running setup.py (path:c:\\users\\anna\\appdata\\local\\temp\\pip_build_Anna\\descartes\\setup.py) egg_info for package descartes\r\n",
        "    \r\n",
        "Downloading/unpacking mpld3 (from ShapelyChipDesigns==0.0)\r\n",
        "  Running setup.py (path:c:\\users\\anna\\appdata\\local\\temp\\pip_build_Anna\\mpld3\\setup.py) egg_info for package mpld3\r\n",
        "    \r\n",
        "Installing collected packages: shapely, descartes, mpld3, ShapelyChipDesigns\r\n",
        "  Running setup.py install for shapely\r\n",
        "    \r\n",
        "    building 'shapely.speedups._speedups' extension\r\n",
        "    Unable to find vcvarsall.bat\r\n",
        "    Warning: The C extension could not be compiled, speedups are not enabled.\r\n",
        "    Failure information, if any, is above.\r\n",
        "    I'm retrying the build without the C extension now.\r\n",
        "    \r\n",
        "    Warning: The C extension could not be compiled, speedups are not enabled.\r\n",
        "    Plain-Python installation succeeded.\r\n",
        "  Running setup.py install for descartes\r\n",
        "    \r\n",
        "  Running setup.py install for mpld3\r\n",
        "    \r\n",
        "  Found existing installation: ShapelyChipDesigns 0.0\r\n",
        "    Uninstalling ShapelyChipDesigns:\r\n",
        "      Successfully uninstalled ShapelyChipDesigns\r\n",
        "  Running setup.py install for ShapelyChipDesigns\r\n",
        "    \r\n",
        "Successfully installed shapely descartes mpld3 ShapelyChipDesigns\r\n",
        "Cleaning up...\r\n",
        "\r\n",
        "E:\\IPython2\\141007 Sphinx and ShapelyChipDesigns\\try4\\dist>More? "
       ]
      }
     ],
     "prompt_number": 13
    },
    {
     "cell_type": "heading",
     "level": 2,
     "metadata": {},
     "source": [
      "ignore me:"
     ]
    },
    {
     "cell_type": "code",
     "collapsed": false,
     "input": [
      "%%cmd\n",
      "cd dist/ShapelyChipDesigns-0.0/\n",
      "setup.py install\n",
      "dir /a"
     ],
     "language": "python",
     "metadata": {},
     "outputs": []
    },
    {
     "cell_type": "code",
     "collapsed": false,
     "input": [
      "import os\n",
      " \n",
      "mypath = !ipython locate\n",
      "print os.path.dirname(mypath[0])"
     ],
     "language": "python",
     "metadata": {},
     "outputs": [
      {
       "output_type": "stream",
       "stream": "stdout",
       "text": [
        "C:\\Users\\annahambi\n"
       ]
      }
     ],
     "prompt_number": 11
    },
    {
     "cell_type": "code",
     "collapsed": false,
     "input": [
      "%%writefile my_html.tpl\n",
      "{%- extends 'full.tpl' -%} "
     ],
     "language": "python",
     "metadata": {},
     "outputs": [
      {
       "output_type": "stream",
       "stream": "stdout",
       "text": [
        "Overwriting my_html.tpl\n"
       ]
      }
     ],
     "prompt_number": 16
    },
    {
     "cell_type": "code",
     "collapsed": false,
     "input": [
      "!ipython nbconvert --to html --template my_html.tpl *.ipynb"
     ],
     "language": "python",
     "metadata": {},
     "outputs": [
      {
       "output_type": "stream",
       "stream": "stderr",
       "text": [
        "[NbConvertApp] Using existing profile dir: u'C:\\\\Users\\\\annahambi\\\\.ipython\\\\profile_default'\n",
        "[NbConvertApp] Converting notebook create_docs.ipynb to html\n",
        "[NbConvertApp] Support files will be in create_docs_files\\\n",
        "[NbConvertApp] Loaded template my_html.tpl\n",
        "C:\\Python27\\lib\\site-packages\\IPython\\nbconvert\\filters\\markdown.py:78: UserWarning: Node.js 0.9.12 or later wasn't found.\n",
        "Nbconvert will try to use Pandoc instead.\n",
        "  \"Nbconvert will try to use Pandoc instead.\")\n",
        "[NbConvertApp] Writing 211750 bytes to create_docs.html\n",
        "[NbConvertApp] Converting notebook H1_H3.ipynb to html\n",
        "[NbConvertApp] Support files will be in H1_H3_files\\\n",
        "[NbConvertApp] Writing 7129603 bytes to H1_H3.html\n",
        "[NbConvertApp] Converting notebook setup dist.ipynb to html\n",
        "[NbConvertApp] Support files will be in setup dist_files\\\n",
        "[NbConvertApp] Writing 203312 bytes to setup dist.html\n",
        "[NbConvertApp] Converting notebook ShapelyChipDesigns.ipynb to html\n",
        "[NbConvertApp] Support files will be in ShapelyChipDesigns_files\\\n",
        "[NbConvertApp] Writing 857034 bytes to ShapelyChipDesigns.html\n"
       ]
      }
     ],
     "prompt_number": 18
    },
    {
     "cell_type": "code",
     "collapsed": false,
     "input": [
      "import pkg_resources\n",
      "\n",
      "my_data_file = pkg_resources.resource_filename(__name__, 'convert.rb')\n",
      "print my_data_file"
     ],
     "language": "python",
     "metadata": {},
     "outputs": [
      {
       "output_type": "stream",
       "stream": "stdout",
       "text": [
        "convert.rb\n"
       ]
      }
     ],
     "prompt_number": 4
    },
    {
     "cell_type": "code",
     "collapsed": false,
     "input": [
      "pkg_resources.resource_filename('ShapelyChipDesigns', 'convert.rb')"
     ],
     "language": "python",
     "metadata": {},
     "outputs": [
      {
       "metadata": {},
       "output_type": "pyout",
       "prompt_number": 13,
       "text": [
        "'ShapelyChipDesigns\\\\convert.rb'"
       ]
      }
     ],
     "prompt_number": 13
    },
    {
     "cell_type": "code",
     "collapsed": false,
     "input": [
      "f = pkg_resources.resource_stream('ShapelyChipDesigns', 'convert.rb')"
     ],
     "language": "python",
     "metadata": {},
     "outputs": [],
     "prompt_number": 8
    },
    {
     "cell_type": "code",
     "collapsed": false,
     "input": [
      "f"
     ],
     "language": "python",
     "metadata": {},
     "outputs": [
      {
       "metadata": {},
       "output_type": "pyout",
       "prompt_number": 12,
       "text": [
        "<open file 'ShapelyChipDesigns\\\\convert.rb', mode 'rb' at 0x05B76180>"
       ]
      }
     ],
     "prompt_number": 12
    },
    {
     "cell_type": "code",
     "collapsed": false,
     "input": [
      "f.read()"
     ],
     "language": "python",
     "metadata": {},
     "outputs": [
      {
       "metadata": {},
       "output_type": "pyout",
       "prompt_number": 10,
       "text": [
        "'layout = RBA::Layout.new\\r\\nlayout.read($input)\\r\\nlayout.write($output)'"
       ]
      }
     ],
     "prompt_number": 10
    },
    {
     "cell_type": "code",
     "collapsed": false,
     "input": [
      "def convert(input_filename, output_filename):\n",
      "    \"\"\"This function can also be used to repair the savedxf_polylist-output, by choosing\n",
      "    the unrepaired file as input and another ``*.dxf`` file as output. The output will no longer have the hatch property.\n",
      "    Relies on the command line access to klayout.\n",
      "    (test by typing klayout into the command line, \n",
      "    if the command is not found, klayout needs to be added to the PATH variable.)\"\"\"\n",
      "    c_file = pkg_resources.resource_stream('ShapelyChipDesigns', 'convert.rb')\n",
      "    os.system('klayout -rd input='+input_filename+' -rd output='+output_filename+' -r '+c_file)"
     ],
     "language": "python",
     "metadata": {},
     "outputs": [],
     "prompt_number": 11
    },
    {
     "cell_type": "code",
     "collapsed": false,
     "input": [],
     "language": "python",
     "metadata": {},
     "outputs": []
    }
   ],
   "metadata": {}
  }
 ]
}