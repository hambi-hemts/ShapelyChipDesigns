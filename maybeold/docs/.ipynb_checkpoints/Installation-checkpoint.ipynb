{
 "metadata": {
  "name": "",
  "signature": "sha256:b15e6169ca4936347c554e069906a05c5c7cd2830d5052a680992c7db24c9614"
 },
 "nbformat": 3,
 "nbformat_minor": 0,
 "worksheets": [
  {
   "cells": [
    {
     "cell_type": "heading",
     "level": 1,
     "metadata": {},
     "source": [
      "Installation"
     ]
    },
    {
     "cell_type": "heading",
     "level": 3,
     "metadata": {},
     "source": [
      "Python and the IPython Notebook"
     ]
    },
    {
     "cell_type": "markdown",
     "metadata": {},
     "source": [
      "I recommend to use a readily-packed <code>Python</code>-distribution for Windows such as Python(x,y) LINK.\n",
      "A very nice interface is the <code>IPython Notebook</code>, which \n",
      "<code>Python</code> and the <code>IPython Notebook</code> go to ___________WHERE_____________. \n",
      "\n",
      "https://skydrive.live.com/edit.aspx/Documents/Notizbuch%20von%20Anna?cid=64dbb1a73fcc16dc&id=documents?&wd=target%28Schnelle%20Notizen.one%7c875A5F61-E69C-4AA2-8237-9D8A88A8B0E9%2fPython%28x%2cy%5c%29%20Installation%20%26%20Test%7c342DE884-8828-478F-8F0F-EFA291003F52%2f%29\n",
      "onenote:https://d.docs.live.net/64dbb1a73fcc16dc/Documents/Notizbuch%20von%20Anna/Schnelle%20Notizen.one#Python(x,y)%20Installation%20%20Test&section-id={875A5F61-E69C-4AA2-8237-9D8A88A8B0E9}&page-id={342DE884-8828-478F-8F0F-EFA291003F52}&end"
     ]
    },
    {
     "cell_type": "heading",
     "level": 3,
     "metadata": {},
     "source": [
      "Download ShapelyChipDesigns"
     ]
    },
    {
     "cell_type": "markdown",
     "metadata": {},
     "source": [
      "ShapelyChipDesigns can be downloaded from github:\n",
      "\n",
      "__ ___\n",
      "and using distutils?\n",
      "\n",
      "and installed by opening a cmd window in the running \n",
      "\n",
      "    setup.py install \n",
      "\n",
      "    .. note:\n",
      "        To handle dxf-files the <code>KLayout</code>-editor is used. \n",
      "        It is freeware and can be downloaded from here:\n",
      "        \n",
      "To test the ShapelyChipDesigns installation go here: ____________\n",
      "To test the dxf-file handling go here: ___________"
     ]
    },
    {
     "cell_type": "code",
     "collapsed": false,
     "input": [
      "!ipython nbconvert Installation.ipynb --to rst"
     ],
     "language": "python",
     "metadata": {},
     "outputs": [
      {
       "output_type": "stream",
       "stream": "stderr",
       "text": [
        "[NbConvertApp] Using existing profile dir: u'C:\\\\Users\\\\annahambi\\\\.ipython\\\\profile_default'\n",
        "[NbConvertApp] Converting notebook Installation.ipynb to rst\n",
        "[NbConvertApp] Support files will be in Installation_files\\\n",
        "[NbConvertApp] Loaded template rst.tpl\n",
        "[NbConvertApp] Writing 1210 bytes to Installation.rst\n"
       ]
      }
     ],
     "prompt_number": 1
    },
    {
     "cell_type": "code",
     "collapsed": false,
     "input": [
      "f = open('Installation.rst', 'r')\n",
      "content = f.read()\n",
      "f.close()\n",
      "content = content.replace('%5C','/')\n",
      "\n",
      "f = open('Installation.rst', 'w')\n",
      "f.write(content)\n",
      "f.close()"
     ],
     "language": "python",
     "metadata": {},
     "outputs": [],
     "prompt_number": 2
    },
    {
     "cell_type": "code",
     "collapsed": false,
     "input": [],
     "language": "python",
     "metadata": {},
     "outputs": []
    }
   ],
   "metadata": {}
  }
 ]
}