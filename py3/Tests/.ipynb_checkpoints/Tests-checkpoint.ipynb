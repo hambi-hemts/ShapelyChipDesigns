{
 "cells": [
  {
   "cell_type": "code",
   "execution_count": 3,
   "metadata": {
    "collapsed": false
   },
   "outputs": [
    {
     "ename": "SyntaxError",
     "evalue": "invalid syntax (<ipython-input-3-e83497d94f79>, line 1)",
     "output_type": "error",
     "traceback": [
      "\u001b[1;36m  File \u001b[1;32m\"<ipython-input-3-e83497d94f79>\"\u001b[1;36m, line \u001b[1;32m1\u001b[0m\n\u001b[1;33m    import ShapelyChipDesigns-v001-gen as scde\u001b[0m\n\u001b[1;37m                             ^\u001b[0m\n\u001b[1;31mSyntaxError\u001b[0m\u001b[1;31m:\u001b[0m invalid syntax\n"
     ]
    }
   ],
   "source": [
    "import ShapelyChipDesigns-v001-gen as scde"
   ]
  },
  {
   "cell_type": "code",
   "execution_count": 1,
   "metadata": {
    "collapsed": false
   },
   "outputs": [
    {
     "ename": "SyntaxError",
     "evalue": "invalid syntax (<ipython-input-1-f014fc8dcd73>, line 21)",
     "output_type": "error",
     "traceback": [
      "\u001b[1;36m  File \u001b[1;32m\"<ipython-input-1-f014fc8dcd73>\"\u001b[1;36m, line \u001b[1;32m21\u001b[0m\n\u001b[1;33m    import ShapelyChipDesigns-v001-gen.py3 as scde\u001b[0m\n\u001b[1;37m                             ^\u001b[0m\n\u001b[1;31mSyntaxError\u001b[0m\u001b[1;31m:\u001b[0m invalid syntax\n"
     ]
    }
   ],
   "source": [
    "####### external modules #######\n",
    "from numpy import *\n",
    "\n",
    "######## PLOTS ###########\n",
    "from matplotlib import *\n",
    "from matplotlib.pyplot import *\n",
    "import matplotlib as mpl\n",
    "\n",
    "from mpltools import layout\n",
    "from mpltools import color\n",
    "color.cycle_cmap(10, cmap='pink')\n",
    "\n",
    "%matplotlib inline\n",
    "\n",
    "####### my modules #######\n",
    "import hambiplots.plots_v001 as hp\n",
    "reload(hp)\n",
    "\n",
    "import hambiio as hio\n",
    "\n",
    "\n",
    "\n",
    "hp.set_rcParams()"
   ]
  },
  {
   "cell_type": "code",
   "execution_count": 27,
   "metadata": {
    "collapsed": false
   },
   "outputs": [
    {
     "data": {
      "text/html": [
       "<table><tr><td>first column</td><td>second column</td></tr><tr><td>0</td><td>4</td></tr><tr><td>1</td><td>5</td></tr><tr><td>2</td><td>6</td></tr></table>"
      ],
      "text/plain": [
       "[['first column', 'second column'], [0, 4], [1, 5], [2, 6]]"
      ]
     },
     "execution_count": 27,
     "metadata": {},
     "output_type": "execute_result"
    }
   ],
   "source": [
    "myt = [['first column'] + list(arange(3)), \n",
    "       ['second column'] + list(arange(4, 7))]\n",
    "\n",
    "scde.make_table(*myt)"
   ]
  },
  {
   "cell_type": "code",
   "execution_count": null,
   "metadata": {
    "collapsed": true
   },
   "outputs": [],
   "source": []
  }
 ],
 "metadata": {
  "kernelspec": {
   "display_name": "Python 3",
   "language": "python",
   "name": "python3"
  },
  "language_info": {
   "codemirror_mode": {
    "name": "ipython",
    "version": 3
   },
   "file_extension": ".py",
   "mimetype": "text/x-python",
   "name": "python",
   "nbconvert_exporter": "python",
   "pygments_lexer": "ipython3",
   "version": "3.4.3"
  }
 },
 "nbformat": 4,
 "nbformat_minor": 0
}
